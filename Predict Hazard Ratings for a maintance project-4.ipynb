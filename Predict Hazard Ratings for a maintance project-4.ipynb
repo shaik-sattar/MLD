{
 "cells": [
  {
   "cell_type": "code",
   "execution_count": 1,
   "metadata": {},
   "outputs": [],
   "source": [
    "import pandas as pd\n",
    "import numpy as np\n",
    "import warnings\n",
    "warnings.filterwarnings(\"ignore\")\n",
    "import matplotlib.pyplot as plt\n",
    "%matplotlib inline\n",
    "import math\n",
    "from sklearn.linear_model import LinearRegression,Lasso,Ridge\n",
    "from sklearn.model_selection import train_test_split,KFold\n",
    "import seaborn as sns"
   ]
  },
  {
   "cell_type": "code",
   "execution_count": 2,
   "metadata": {},
   "outputs": [],
   "source": [
    "data_train=r'D:\\Edvancer project\\project data set\\project -4 hizard\\Hazard_train.csv'\n",
    "data_test=r'D:\\Edvancer project\\project data set\\project -4 hizard\\Hazard_test_share.csv'\n",
    "bd_train=pd.read_csv(data_train)\n",
    "bd_test=pd.read_csv(data_test)\n"
   ]
  },
  {
   "cell_type": "code",
   "execution_count": 3,
   "metadata": {},
   "outputs": [
    {
     "data": {
      "text/html": [
       "<div>\n",
       "<style scoped>\n",
       "    .dataframe tbody tr th:only-of-type {\n",
       "        vertical-align: middle;\n",
       "    }\n",
       "\n",
       "    .dataframe tbody tr th {\n",
       "        vertical-align: top;\n",
       "    }\n",
       "\n",
       "    .dataframe thead th {\n",
       "        text-align: right;\n",
       "    }\n",
       "</style>\n",
       "<table border=\"1\" class=\"dataframe\">\n",
       "  <thead>\n",
       "    <tr style=\"text-align: right;\">\n",
       "      <th></th>\n",
       "      <th>Id</th>\n",
       "      <th>Hazard</th>\n",
       "      <th>T1_V1</th>\n",
       "      <th>T1_V2</th>\n",
       "      <th>T1_V3</th>\n",
       "      <th>T1_V4</th>\n",
       "      <th>T1_V5</th>\n",
       "      <th>T1_V6</th>\n",
       "      <th>T1_V7</th>\n",
       "      <th>T1_V8</th>\n",
       "      <th>...</th>\n",
       "      <th>T2_V6</th>\n",
       "      <th>T2_V7</th>\n",
       "      <th>T2_V8</th>\n",
       "      <th>T2_V9</th>\n",
       "      <th>T2_V10</th>\n",
       "      <th>T2_V11</th>\n",
       "      <th>T2_V12</th>\n",
       "      <th>T2_V13</th>\n",
       "      <th>T2_V14</th>\n",
       "      <th>T2_V15</th>\n",
       "    </tr>\n",
       "  </thead>\n",
       "  <tbody>\n",
       "    <tr>\n",
       "      <th>0</th>\n",
       "      <td>83642</td>\n",
       "      <td>2</td>\n",
       "      <td>10</td>\n",
       "      <td>23</td>\n",
       "      <td>4</td>\n",
       "      <td>N</td>\n",
       "      <td>K</td>\n",
       "      <td>Y</td>\n",
       "      <td>B</td>\n",
       "      <td>D</td>\n",
       "      <td>...</td>\n",
       "      <td>2</td>\n",
       "      <td>37</td>\n",
       "      <td>1</td>\n",
       "      <td>11</td>\n",
       "      <td>2</td>\n",
       "      <td>Y</td>\n",
       "      <td>N</td>\n",
       "      <td>E</td>\n",
       "      <td>2</td>\n",
       "      <td>1</td>\n",
       "    </tr>\n",
       "    <tr>\n",
       "      <th>1</th>\n",
       "      <td>92530</td>\n",
       "      <td>6</td>\n",
       "      <td>3</td>\n",
       "      <td>18</td>\n",
       "      <td>2</td>\n",
       "      <td>B</td>\n",
       "      <td>H</td>\n",
       "      <td>N</td>\n",
       "      <td>B</td>\n",
       "      <td>B</td>\n",
       "      <td>...</td>\n",
       "      <td>2</td>\n",
       "      <td>34</td>\n",
       "      <td>1</td>\n",
       "      <td>12</td>\n",
       "      <td>7</td>\n",
       "      <td>Y</td>\n",
       "      <td>N</td>\n",
       "      <td>C</td>\n",
       "      <td>3</td>\n",
       "      <td>3</td>\n",
       "    </tr>\n",
       "    <tr>\n",
       "      <th>2</th>\n",
       "      <td>86131</td>\n",
       "      <td>4</td>\n",
       "      <td>5</td>\n",
       "      <td>20</td>\n",
       "      <td>4</td>\n",
       "      <td>B</td>\n",
       "      <td>K</td>\n",
       "      <td>N</td>\n",
       "      <td>B</td>\n",
       "      <td>B</td>\n",
       "      <td>...</td>\n",
       "      <td>1</td>\n",
       "      <td>40</td>\n",
       "      <td>1</td>\n",
       "      <td>17</td>\n",
       "      <td>4</td>\n",
       "      <td>Y</td>\n",
       "      <td>N</td>\n",
       "      <td>D</td>\n",
       "      <td>1</td>\n",
       "      <td>1</td>\n",
       "    </tr>\n",
       "    <tr>\n",
       "      <th>3</th>\n",
       "      <td>88666</td>\n",
       "      <td>1</td>\n",
       "      <td>4</td>\n",
       "      <td>7</td>\n",
       "      <td>5</td>\n",
       "      <td>N</td>\n",
       "      <td>H</td>\n",
       "      <td>N</td>\n",
       "      <td>B</td>\n",
       "      <td>B</td>\n",
       "      <td>...</td>\n",
       "      <td>2</td>\n",
       "      <td>37</td>\n",
       "      <td>1</td>\n",
       "      <td>11</td>\n",
       "      <td>6</td>\n",
       "      <td>Y</td>\n",
       "      <td>N</td>\n",
       "      <td>D</td>\n",
       "      <td>2</td>\n",
       "      <td>1</td>\n",
       "    </tr>\n",
       "    <tr>\n",
       "      <th>4</th>\n",
       "      <td>11122</td>\n",
       "      <td>21</td>\n",
       "      <td>10</td>\n",
       "      <td>21</td>\n",
       "      <td>6</td>\n",
       "      <td>N</td>\n",
       "      <td>C</td>\n",
       "      <td>Y</td>\n",
       "      <td>B</td>\n",
       "      <td>C</td>\n",
       "      <td>...</td>\n",
       "      <td>2</td>\n",
       "      <td>40</td>\n",
       "      <td>1</td>\n",
       "      <td>6</td>\n",
       "      <td>6</td>\n",
       "      <td>N</td>\n",
       "      <td>N</td>\n",
       "      <td>D</td>\n",
       "      <td>5</td>\n",
       "      <td>5</td>\n",
       "    </tr>\n",
       "  </tbody>\n",
       "</table>\n",
       "<p>5 rows × 34 columns</p>\n",
       "</div>"
      ],
      "text/plain": [
       "      Id  Hazard  T1_V1  T1_V2  T1_V3 T1_V4 T1_V5 T1_V6 T1_V7 T1_V8  ...  \\\n",
       "0  83642       2     10     23      4     N     K     Y     B     D  ...   \n",
       "1  92530       6      3     18      2     B     H     N     B     B  ...   \n",
       "2  86131       4      5     20      4     B     K     N     B     B  ...   \n",
       "3  88666       1      4      7      5     N     H     N     B     B  ...   \n",
       "4  11122      21     10     21      6     N     C     Y     B     C  ...   \n",
       "\n",
       "  T2_V6  T2_V7 T2_V8 T2_V9  T2_V10  T2_V11 T2_V12 T2_V13 T2_V14  T2_V15  \n",
       "0     2     37     1    11       2       Y      N      E      2       1  \n",
       "1     2     34     1    12       7       Y      N      C      3       3  \n",
       "2     1     40     1    17       4       Y      N      D      1       1  \n",
       "3     2     37     1    11       6       Y      N      D      2       1  \n",
       "4     2     40     1     6       6       N      N      D      5       5  \n",
       "\n",
       "[5 rows x 34 columns]"
      ]
     },
     "execution_count": 3,
     "metadata": {},
     "output_type": "execute_result"
    }
   ],
   "source": [
    "bd_train.head()"
   ]
  },
  {
   "cell_type": "code",
   "execution_count": 4,
   "metadata": {},
   "outputs": [
    {
     "data": {
      "text/plain": [
       "(Id         int64\n",
       " Hazard     int64\n",
       " T1_V1      int64\n",
       " T1_V2      int64\n",
       " T1_V3      int64\n",
       " T1_V4     object\n",
       " T1_V5     object\n",
       " T1_V6     object\n",
       " T1_V7     object\n",
       " T1_V8     object\n",
       " T1_V9     object\n",
       " T1_V10     int64\n",
       " T1_V11    object\n",
       " T1_V12    object\n",
       " T1_V13     int64\n",
       " T1_V14     int64\n",
       " T1_V15    object\n",
       " T1_V16    object\n",
       " T1_V17    object\n",
       " T2_V1      int64\n",
       " T2_V2      int64\n",
       " T2_V3     object\n",
       " T2_V4      int64\n",
       " T2_V5     object\n",
       " T2_V6      int64\n",
       " T2_V7      int64\n",
       " T2_V8      int64\n",
       " T2_V9      int64\n",
       " T2_V10     int64\n",
       " T2_V11    object\n",
       " T2_V12    object\n",
       " T2_V13    object\n",
       " T2_V14     int64\n",
       " T2_V15     int64\n",
       " dtype: object,\n",
       " (40799, 34))"
      ]
     },
     "execution_count": 4,
     "metadata": {},
     "output_type": "execute_result"
    }
   ],
   "source": [
    "bd_train.dtypes,bd_train.shape"
   ]
  },
  {
   "cell_type": "code",
   "execution_count": 5,
   "metadata": {},
   "outputs": [
    {
     "data": {
      "text/plain": [
       "(Id         int64\n",
       " T1_V1      int64\n",
       " T1_V2      int64\n",
       " T1_V3      int64\n",
       " T1_V4     object\n",
       " T1_V5     object\n",
       " T1_V6     object\n",
       " T1_V7     object\n",
       " T1_V8     object\n",
       " T1_V9     object\n",
       " T1_V10     int64\n",
       " T1_V11    object\n",
       " T1_V12    object\n",
       " T1_V13     int64\n",
       " T1_V14     int64\n",
       " T1_V15    object\n",
       " T1_V16    object\n",
       " T1_V17    object\n",
       " T2_V1      int64\n",
       " T2_V2      int64\n",
       " T2_V3     object\n",
       " T2_V4      int64\n",
       " T2_V5     object\n",
       " T2_V6      int64\n",
       " T2_V7      int64\n",
       " T2_V8      int64\n",
       " T2_V9      int64\n",
       " T2_V10     int64\n",
       " T2_V11    object\n",
       " T2_V12    object\n",
       " T2_V13    object\n",
       " T2_V14     int64\n",
       " T2_V15     int64\n",
       " dtype: object,\n",
       " (10200, 33))"
      ]
     },
     "execution_count": 5,
     "metadata": {},
     "output_type": "execute_result"
    }
   ],
   "source": [
    "bd_test.dtypes,bd_test.shape"
   ]
  },
  {
   "cell_type": "code",
   "execution_count": 6,
   "metadata": {},
   "outputs": [
    {
     "data": {
      "text/html": [
       "<div>\n",
       "<style scoped>\n",
       "    .dataframe tbody tr th:only-of-type {\n",
       "        vertical-align: middle;\n",
       "    }\n",
       "\n",
       "    .dataframe tbody tr th {\n",
       "        vertical-align: top;\n",
       "    }\n",
       "\n",
       "    .dataframe thead th {\n",
       "        text-align: right;\n",
       "    }\n",
       "</style>\n",
       "<table border=\"1\" class=\"dataframe\">\n",
       "  <thead>\n",
       "    <tr style=\"text-align: right;\">\n",
       "      <th></th>\n",
       "      <th>Id</th>\n",
       "      <th>Hazard</th>\n",
       "      <th>T1_V1</th>\n",
       "      <th>T1_V2</th>\n",
       "      <th>T1_V3</th>\n",
       "      <th>T1_V4</th>\n",
       "      <th>T1_V5</th>\n",
       "      <th>T1_V6</th>\n",
       "      <th>T1_V7</th>\n",
       "      <th>T1_V8</th>\n",
       "      <th>...</th>\n",
       "      <th>T2_V7</th>\n",
       "      <th>T2_V8</th>\n",
       "      <th>T2_V9</th>\n",
       "      <th>T2_V10</th>\n",
       "      <th>T2_V11</th>\n",
       "      <th>T2_V12</th>\n",
       "      <th>T2_V13</th>\n",
       "      <th>T2_V14</th>\n",
       "      <th>T2_V15</th>\n",
       "      <th>data</th>\n",
       "    </tr>\n",
       "  </thead>\n",
       "  <tbody>\n",
       "    <tr>\n",
       "      <th>0</th>\n",
       "      <td>83642</td>\n",
       "      <td>2.0</td>\n",
       "      <td>10</td>\n",
       "      <td>23</td>\n",
       "      <td>4</td>\n",
       "      <td>N</td>\n",
       "      <td>K</td>\n",
       "      <td>Y</td>\n",
       "      <td>B</td>\n",
       "      <td>D</td>\n",
       "      <td>...</td>\n",
       "      <td>37</td>\n",
       "      <td>1</td>\n",
       "      <td>11</td>\n",
       "      <td>2</td>\n",
       "      <td>Y</td>\n",
       "      <td>N</td>\n",
       "      <td>E</td>\n",
       "      <td>2</td>\n",
       "      <td>1</td>\n",
       "      <td>train</td>\n",
       "    </tr>\n",
       "    <tr>\n",
       "      <th>1</th>\n",
       "      <td>92530</td>\n",
       "      <td>6.0</td>\n",
       "      <td>3</td>\n",
       "      <td>18</td>\n",
       "      <td>2</td>\n",
       "      <td>B</td>\n",
       "      <td>H</td>\n",
       "      <td>N</td>\n",
       "      <td>B</td>\n",
       "      <td>B</td>\n",
       "      <td>...</td>\n",
       "      <td>34</td>\n",
       "      <td>1</td>\n",
       "      <td>12</td>\n",
       "      <td>7</td>\n",
       "      <td>Y</td>\n",
       "      <td>N</td>\n",
       "      <td>C</td>\n",
       "      <td>3</td>\n",
       "      <td>3</td>\n",
       "      <td>train</td>\n",
       "    </tr>\n",
       "    <tr>\n",
       "      <th>2</th>\n",
       "      <td>86131</td>\n",
       "      <td>4.0</td>\n",
       "      <td>5</td>\n",
       "      <td>20</td>\n",
       "      <td>4</td>\n",
       "      <td>B</td>\n",
       "      <td>K</td>\n",
       "      <td>N</td>\n",
       "      <td>B</td>\n",
       "      <td>B</td>\n",
       "      <td>...</td>\n",
       "      <td>40</td>\n",
       "      <td>1</td>\n",
       "      <td>17</td>\n",
       "      <td>4</td>\n",
       "      <td>Y</td>\n",
       "      <td>N</td>\n",
       "      <td>D</td>\n",
       "      <td>1</td>\n",
       "      <td>1</td>\n",
       "      <td>train</td>\n",
       "    </tr>\n",
       "    <tr>\n",
       "      <th>3</th>\n",
       "      <td>88666</td>\n",
       "      <td>1.0</td>\n",
       "      <td>4</td>\n",
       "      <td>7</td>\n",
       "      <td>5</td>\n",
       "      <td>N</td>\n",
       "      <td>H</td>\n",
       "      <td>N</td>\n",
       "      <td>B</td>\n",
       "      <td>B</td>\n",
       "      <td>...</td>\n",
       "      <td>37</td>\n",
       "      <td>1</td>\n",
       "      <td>11</td>\n",
       "      <td>6</td>\n",
       "      <td>Y</td>\n",
       "      <td>N</td>\n",
       "      <td>D</td>\n",
       "      <td>2</td>\n",
       "      <td>1</td>\n",
       "      <td>train</td>\n",
       "    </tr>\n",
       "    <tr>\n",
       "      <th>4</th>\n",
       "      <td>11122</td>\n",
       "      <td>21.0</td>\n",
       "      <td>10</td>\n",
       "      <td>21</td>\n",
       "      <td>6</td>\n",
       "      <td>N</td>\n",
       "      <td>C</td>\n",
       "      <td>Y</td>\n",
       "      <td>B</td>\n",
       "      <td>C</td>\n",
       "      <td>...</td>\n",
       "      <td>40</td>\n",
       "      <td>1</td>\n",
       "      <td>6</td>\n",
       "      <td>6</td>\n",
       "      <td>N</td>\n",
       "      <td>N</td>\n",
       "      <td>D</td>\n",
       "      <td>5</td>\n",
       "      <td>5</td>\n",
       "      <td>train</td>\n",
       "    </tr>\n",
       "  </tbody>\n",
       "</table>\n",
       "<p>5 rows × 35 columns</p>\n",
       "</div>"
      ],
      "text/plain": [
       "      Id  Hazard  T1_V1  T1_V2  T1_V3 T1_V4 T1_V5 T1_V6 T1_V7 T1_V8  ...  \\\n",
       "0  83642     2.0     10     23      4     N     K     Y     B     D  ...   \n",
       "1  92530     6.0      3     18      2     B     H     N     B     B  ...   \n",
       "2  86131     4.0      5     20      4     B     K     N     B     B  ...   \n",
       "3  88666     1.0      4      7      5     N     H     N     B     B  ...   \n",
       "4  11122    21.0     10     21      6     N     C     Y     B     C  ...   \n",
       "\n",
       "  T2_V7  T2_V8 T2_V9 T2_V10  T2_V11  T2_V12 T2_V13 T2_V14 T2_V15   data  \n",
       "0    37      1    11      2       Y       N      E      2      1  train  \n",
       "1    34      1    12      7       Y       N      C      3      3  train  \n",
       "2    40      1    17      4       Y       N      D      1      1  train  \n",
       "3    37      1    11      6       Y       N      D      2      1  train  \n",
       "4    40      1     6      6       N       N      D      5      5  train  \n",
       "\n",
       "[5 rows x 35 columns]"
      ]
     },
     "execution_count": 6,
     "metadata": {},
     "output_type": "execute_result"
    }
   ],
   "source": [
    "bd_test[\"Hazard\"]=np.nan\n",
    "bd_train[\"data\"]=\"train\"\n",
    "bd_test[\"data\"]='test'\n",
    "bd_test=bd_test[bd_train.columns]\n",
    "bd_all=pd.concat([bd_train,bd_test],axis=0)\n",
    "bd_all.head()"
   ]
  },
  {
   "cell_type": "code",
   "execution_count": 7,
   "metadata": {},
   "outputs": [
    {
     "data": {
      "text/plain": [
       "Id          int64\n",
       "Hazard    float64\n",
       "T1_V1       int64\n",
       "T1_V2       int64\n",
       "T1_V3       int64\n",
       "T1_V4      object\n",
       "T1_V5      object\n",
       "T1_V6      object\n",
       "T1_V7      object\n",
       "T1_V8      object\n",
       "T1_V9      object\n",
       "T1_V10      int64\n",
       "T1_V11     object\n",
       "T1_V12     object\n",
       "T1_V13      int64\n",
       "T1_V14      int64\n",
       "T1_V15     object\n",
       "T1_V16     object\n",
       "T1_V17     object\n",
       "T2_V1       int64\n",
       "T2_V2       int64\n",
       "T2_V3      object\n",
       "T2_V4       int64\n",
       "T2_V5      object\n",
       "T2_V6       int64\n",
       "T2_V7       int64\n",
       "T2_V8       int64\n",
       "T2_V9       int64\n",
       "T2_V10      int64\n",
       "T2_V11     object\n",
       "T2_V12     object\n",
       "T2_V13     object\n",
       "T2_V14      int64\n",
       "T2_V15      int64\n",
       "data       object\n",
       "dtype: object"
      ]
     },
     "execution_count": 7,
     "metadata": {},
     "output_type": "execute_result"
    }
   ],
   "source": [
    "bd_all.dtypes"
   ]
  },
  {
   "cell_type": "code",
   "execution_count": 8,
   "metadata": {},
   "outputs": [
    {
     "data": {
      "text/plain": [
       "N    25112\n",
       "B    12502\n",
       "C     4869\n",
       "W     3480\n",
       "E     2702\n",
       "S     1051\n",
       "G      669\n",
       "H      614\n",
       "Name: T1_V4, dtype: int64"
      ]
     },
     "execution_count": 8,
     "metadata": {},
     "output_type": "execute_result"
    }
   ],
   "source": [
    "bd_all[\"T1_V4\"].value_counts()"
   ]
  },
  {
   "cell_type": "code",
   "execution_count": 9,
   "metadata": {},
   "outputs": [
    {
     "data": {
      "text/plain": [
       "Index(['T1_V4', 'T1_V5', 'T1_V6', 'T1_V7', 'T1_V8', 'T1_V9', 'T1_V11',\n",
       "       'T1_V12', 'T1_V15', 'T1_V16', 'T1_V17', 'T2_V3', 'T2_V5', 'T2_V11',\n",
       "       'T2_V12', 'T2_V13', 'data'],\n",
       "      dtype='object')"
      ]
     },
     "execution_count": 9,
     "metadata": {},
     "output_type": "execute_result"
    }
   ],
   "source": [
    "cat_cols=bd_all.select_dtypes(['object']).columns\n",
    "cat_cols"
   ]
  },
  {
   "cell_type": "code",
   "execution_count": 10,
   "metadata": {},
   "outputs": [
    {
     "data": {
      "text/plain": [
       "Index(['T1_V4', 'T1_V5', 'T1_V6', 'T1_V7', 'T1_V8', 'T1_V9', 'T1_V11',\n",
       "       'T1_V12', 'T1_V15', 'T1_V16', 'T1_V17', 'T2_V3', 'T2_V5', 'T2_V11',\n",
       "       'T2_V12', 'T2_V13'],\n",
       "      dtype='object')"
      ]
     },
     "execution_count": 10,
     "metadata": {},
     "output_type": "execute_result"
    }
   ],
   "source": [
    "cat_col=cat_cols[:-1]\n",
    "cat_col"
   ]
  },
  {
   "cell_type": "code",
   "execution_count": 11,
   "metadata": {},
   "outputs": [
    {
     "name": "stdout",
     "output_type": "stream",
     "text": [
      "----- T1_V4 -----\n",
      "8\n",
      "['N' 'B' 'C' 'W' 'E' 'S' 'G' 'H']\n",
      "N    25112\n",
      "B    12502\n",
      "C     4869\n",
      "W     3480\n",
      "E     2702\n",
      "S     1051\n",
      "G      669\n",
      "H      614\n",
      "Name: T1_V4, dtype: int64\n",
      "----- T1_V5 -----\n",
      "10\n",
      "['K' 'H' 'C' 'I' 'A' 'B' 'D' 'J' 'E' 'L']\n",
      "K    14138\n",
      "A    10900\n",
      "H    10137\n",
      "C     7845\n",
      "I     4297\n",
      "B     3335\n",
      "J      188\n",
      "D      149\n",
      "L        5\n",
      "E        5\n",
      "Name: T1_V5, dtype: int64\n",
      "----- T1_V6 -----\n",
      "2\n",
      "['Y' 'N']\n",
      "N    28550\n",
      "Y    22449\n",
      "Name: T1_V6, dtype: int64\n",
      "----- T1_V7 -----\n",
      "4\n",
      "['B' 'D' 'A' 'C']\n",
      "B    47982\n",
      "D     2126\n",
      "A      546\n",
      "C      345\n",
      "Name: T1_V7, dtype: int64\n",
      "----- T1_V8 -----\n",
      "4\n",
      "['D' 'B' 'C' 'A']\n",
      "B    46391\n",
      "D     2028\n",
      "C     1547\n",
      "A     1033\n",
      "Name: T1_V8, dtype: int64\n",
      "----- T1_V9 -----\n",
      "6\n",
      "['E' 'D' 'B' 'F' 'G' 'C']\n",
      "D    23859\n",
      "E    21491\n",
      "B     2748\n",
      "F     2432\n",
      "C      251\n",
      "G      218\n",
      "Name: T1_V9, dtype: int64\n",
      "----- T1_V11 -----\n",
      "12\n",
      "['H' 'L' 'B' 'N' 'A' 'E' 'J' 'I' 'F' 'K' 'M' 'D']\n",
      "B    17047\n",
      "H    15381\n",
      "L     7003\n",
      "J     6197\n",
      "A     1556\n",
      "I     1364\n",
      "F      544\n",
      "M      541\n",
      "E      450\n",
      "N      419\n",
      "D      258\n",
      "K      239\n",
      "Name: T1_V11, dtype: int64\n",
      "----- T1_V12 -----\n",
      "4\n",
      "['B' 'A' 'C' 'D']\n",
      "B    46900\n",
      "D     1574\n",
      "C     1395\n",
      "A     1130\n",
      "Name: T1_V12, dtype: int64\n",
      "----- T1_V15 -----\n",
      "8\n",
      "['A' 'C' 'N' 'W' 'H' 'D' 'S' 'F']\n",
      "A    45680\n",
      "N     1879\n",
      "C     1652\n",
      "D      758\n",
      "H      524\n",
      "W      230\n",
      "S      191\n",
      "F       85\n",
      "Name: T1_V15, dtype: int64\n",
      "----- T1_V16 -----\n",
      "18\n",
      "['K' 'B' 'I' 'R' 'D' 'A' 'M' 'J' 'O' 'E' 'Q' 'L' 'H' 'N' 'C' 'G' 'P' 'F']\n",
      "I    9331\n",
      "B    8933\n",
      "R    8339\n",
      "K    8159\n",
      "A    2705\n",
      "E    2599\n",
      "J    2410\n",
      "N    2277\n",
      "D    1397\n",
      "M    1264\n",
      "C     808\n",
      "L     729\n",
      "G     484\n",
      "P     459\n",
      "H     408\n",
      "Q     358\n",
      "F     187\n",
      "O     152\n",
      "Name: T1_V16, dtype: int64\n",
      "----- T1_V17 -----\n",
      "2\n",
      "['N' 'Y']\n",
      "N    41183\n",
      "Y     9816\n",
      "Name: T1_V17, dtype: int64\n",
      "----- T2_V3 -----\n",
      "2\n",
      "['N' 'Y']\n",
      "N    34548\n",
      "Y    16451\n",
      "Name: T2_V3, dtype: int64\n",
      "----- T2_V5 -----\n",
      "6\n",
      "['C' 'A' 'B' 'E' 'D' 'F']\n",
      "A    33845\n",
      "B    11201\n",
      "C     5013\n",
      "D      515\n",
      "E      412\n",
      "F       13\n",
      "Name: T2_V5, dtype: int64\n",
      "----- T2_V11 -----\n",
      "2\n",
      "['Y' 'N']\n",
      "Y    36940\n",
      "N    14059\n",
      "Name: T2_V11, dtype: int64\n",
      "----- T2_V12 -----\n",
      "2\n",
      "['N' 'Y']\n",
      "N    41703\n",
      "Y     9296\n",
      "Name: T2_V12, dtype: int64\n",
      "----- T2_V13 -----\n",
      "5\n",
      "['E' 'C' 'D' 'A' 'B']\n",
      "E    27634\n",
      "A    10260\n",
      "C     7507\n",
      "D     5084\n",
      "B      514\n",
      "Name: T2_V13, dtype: int64\n"
     ]
    }
   ],
   "source": [
    "for col in cat_col:\n",
    "    print('-----', col, '-----')\n",
    "    print(bd_all[col].nunique()) # No. of unique values on the categorical col\n",
    "    print(bd_all[col].unique()) # The actual unique values\n",
    "    print(bd_all[col].value_counts()) "
   ]
  },
  {
   "cell_type": "code",
   "execution_count": 12,
   "metadata": {},
   "outputs": [
    {
     "name": "stdout",
     "output_type": "stream",
     "text": [
      "Hazard\n"
     ]
    }
   ],
   "source": [
    "for col in bd_all.columns:\n",
    "    if (bd_all[col].isnull().sum()>500):\n",
    "        \n",
    "        print(col)"
   ]
  },
  {
   "cell_type": "code",
   "execution_count": 13,
   "metadata": {},
   "outputs": [
    {
     "name": "stdout",
     "output_type": "stream",
     "text": [
      "T1_V4\n",
      "T1_V5\n",
      "T1_V6\n",
      "T1_V7\n",
      "T1_V8\n",
      "T1_V9\n",
      "T1_V11\n",
      "T1_V12\n",
      "T1_V15\n",
      "T1_V16\n",
      "T1_V17\n",
      "T2_V3\n",
      "T2_V5\n",
      "T2_V11\n",
      "T2_V12\n",
      "T2_V13\n"
     ]
    }
   ],
   "source": [
    "for col in cat_col:\n",
    "    k=bd_all[col].value_counts()\n",
    "    cats=k[k>=100].index[:-1]\n",
    "    \n",
    "    for cat in cats:\n",
    "        name=col+'_'+cat\n",
    "        bd_all[name]=(bd_all[col]==cat).astype(int)\n",
    "        \n",
    "    del bd_all[col]\n",
    "    print(col)\n",
    "    "
   ]
  },
  {
   "cell_type": "code",
   "execution_count": 14,
   "metadata": {},
   "outputs": [
    {
     "data": {
      "text/plain": [
       "(50999, 94)"
      ]
     },
     "execution_count": 14,
     "metadata": {},
     "output_type": "execute_result"
    }
   ],
   "source": [
    "bd_all.shape"
   ]
  },
  {
   "cell_type": "code",
   "execution_count": 15,
   "metadata": {},
   "outputs": [
    {
     "data": {
      "text/html": [
       "<div>\n",
       "<style scoped>\n",
       "    .dataframe tbody tr th:only-of-type {\n",
       "        vertical-align: middle;\n",
       "    }\n",
       "\n",
       "    .dataframe tbody tr th {\n",
       "        vertical-align: top;\n",
       "    }\n",
       "\n",
       "    .dataframe thead th {\n",
       "        text-align: right;\n",
       "    }\n",
       "</style>\n",
       "<table border=\"1\" class=\"dataframe\">\n",
       "  <thead>\n",
       "    <tr style=\"text-align: right;\">\n",
       "      <th></th>\n",
       "      <th>Id</th>\n",
       "      <th>Hazard</th>\n",
       "      <th>T1_V1</th>\n",
       "      <th>T1_V2</th>\n",
       "      <th>T1_V3</th>\n",
       "      <th>T1_V10</th>\n",
       "      <th>T1_V13</th>\n",
       "      <th>T1_V14</th>\n",
       "      <th>T2_V1</th>\n",
       "      <th>T2_V2</th>\n",
       "      <th>...</th>\n",
       "      <th>T2_V5_A</th>\n",
       "      <th>T2_V5_B</th>\n",
       "      <th>T2_V5_C</th>\n",
       "      <th>T2_V5_D</th>\n",
       "      <th>T2_V11_Y</th>\n",
       "      <th>T2_V12_N</th>\n",
       "      <th>T2_V13_E</th>\n",
       "      <th>T2_V13_A</th>\n",
       "      <th>T2_V13_C</th>\n",
       "      <th>T2_V13_D</th>\n",
       "    </tr>\n",
       "  </thead>\n",
       "  <tbody>\n",
       "    <tr>\n",
       "      <th>0</th>\n",
       "      <td>83642</td>\n",
       "      <td>2.0</td>\n",
       "      <td>10</td>\n",
       "      <td>23</td>\n",
       "      <td>4</td>\n",
       "      <td>2</td>\n",
       "      <td>10</td>\n",
       "      <td>0</td>\n",
       "      <td>52</td>\n",
       "      <td>14</td>\n",
       "      <td>...</td>\n",
       "      <td>0</td>\n",
       "      <td>0</td>\n",
       "      <td>1</td>\n",
       "      <td>0</td>\n",
       "      <td>1</td>\n",
       "      <td>1</td>\n",
       "      <td>1</td>\n",
       "      <td>0</td>\n",
       "      <td>0</td>\n",
       "      <td>0</td>\n",
       "    </tr>\n",
       "    <tr>\n",
       "      <th>1</th>\n",
       "      <td>92530</td>\n",
       "      <td>6.0</td>\n",
       "      <td>3</td>\n",
       "      <td>18</td>\n",
       "      <td>2</td>\n",
       "      <td>8</td>\n",
       "      <td>10</td>\n",
       "      <td>3</td>\n",
       "      <td>39</td>\n",
       "      <td>14</td>\n",
       "      <td>...</td>\n",
       "      <td>1</td>\n",
       "      <td>0</td>\n",
       "      <td>0</td>\n",
       "      <td>0</td>\n",
       "      <td>1</td>\n",
       "      <td>1</td>\n",
       "      <td>0</td>\n",
       "      <td>0</td>\n",
       "      <td>1</td>\n",
       "      <td>0</td>\n",
       "    </tr>\n",
       "    <tr>\n",
       "      <th>2</th>\n",
       "      <td>86131</td>\n",
       "      <td>4.0</td>\n",
       "      <td>5</td>\n",
       "      <td>20</td>\n",
       "      <td>4</td>\n",
       "      <td>7</td>\n",
       "      <td>15</td>\n",
       "      <td>1</td>\n",
       "      <td>66</td>\n",
       "      <td>10</td>\n",
       "      <td>...</td>\n",
       "      <td>0</td>\n",
       "      <td>0</td>\n",
       "      <td>1</td>\n",
       "      <td>0</td>\n",
       "      <td>1</td>\n",
       "      <td>1</td>\n",
       "      <td>0</td>\n",
       "      <td>0</td>\n",
       "      <td>0</td>\n",
       "      <td>1</td>\n",
       "    </tr>\n",
       "    <tr>\n",
       "      <th>3</th>\n",
       "      <td>88666</td>\n",
       "      <td>1.0</td>\n",
       "      <td>4</td>\n",
       "      <td>7</td>\n",
       "      <td>5</td>\n",
       "      <td>8</td>\n",
       "      <td>15</td>\n",
       "      <td>3</td>\n",
       "      <td>48</td>\n",
       "      <td>11</td>\n",
       "      <td>...</td>\n",
       "      <td>0</td>\n",
       "      <td>1</td>\n",
       "      <td>0</td>\n",
       "      <td>0</td>\n",
       "      <td>1</td>\n",
       "      <td>1</td>\n",
       "      <td>0</td>\n",
       "      <td>0</td>\n",
       "      <td>0</td>\n",
       "      <td>1</td>\n",
       "    </tr>\n",
       "    <tr>\n",
       "      <th>4</th>\n",
       "      <td>11122</td>\n",
       "      <td>21.0</td>\n",
       "      <td>10</td>\n",
       "      <td>21</td>\n",
       "      <td>6</td>\n",
       "      <td>12</td>\n",
       "      <td>10</td>\n",
       "      <td>1</td>\n",
       "      <td>42</td>\n",
       "      <td>11</td>\n",
       "      <td>...</td>\n",
       "      <td>1</td>\n",
       "      <td>0</td>\n",
       "      <td>0</td>\n",
       "      <td>0</td>\n",
       "      <td>0</td>\n",
       "      <td>1</td>\n",
       "      <td>0</td>\n",
       "      <td>0</td>\n",
       "      <td>0</td>\n",
       "      <td>1</td>\n",
       "    </tr>\n",
       "  </tbody>\n",
       "</table>\n",
       "<p>5 rows × 94 columns</p>\n",
       "</div>"
      ],
      "text/plain": [
       "      Id  Hazard  T1_V1  T1_V2  T1_V3  T1_V10  T1_V13  T1_V14  T2_V1  T2_V2  \\\n",
       "0  83642     2.0     10     23      4       2      10       0     52     14   \n",
       "1  92530     6.0      3     18      2       8      10       3     39     14   \n",
       "2  86131     4.0      5     20      4       7      15       1     66     10   \n",
       "3  88666     1.0      4      7      5       8      15       3     48     11   \n",
       "4  11122    21.0     10     21      6      12      10       1     42     11   \n",
       "\n",
       "   ...  T2_V5_A  T2_V5_B  T2_V5_C  T2_V5_D  T2_V11_Y  T2_V12_N  T2_V13_E  \\\n",
       "0  ...        0        0        1        0         1         1         1   \n",
       "1  ...        1        0        0        0         1         1         0   \n",
       "2  ...        0        0        1        0         1         1         0   \n",
       "3  ...        0        1        0        0         1         1         0   \n",
       "4  ...        1        0        0        0         0         1         0   \n",
       "\n",
       "   T2_V13_A T2_V13_C  T2_V13_D  \n",
       "0         0        0         0  \n",
       "1         0        1         0  \n",
       "2         0        0         1  \n",
       "3         0        0         1  \n",
       "4         0        0         1  \n",
       "\n",
       "[5 rows x 94 columns]"
      ]
     },
     "execution_count": 15,
     "metadata": {},
     "output_type": "execute_result"
    }
   ],
   "source": [
    "bd_all.head()"
   ]
  },
  {
   "cell_type": "code",
   "execution_count": 16,
   "metadata": {},
   "outputs": [
    {
     "data": {
      "text/html": [
       "<div>\n",
       "<style scoped>\n",
       "    .dataframe tbody tr th:only-of-type {\n",
       "        vertical-align: middle;\n",
       "    }\n",
       "\n",
       "    .dataframe tbody tr th {\n",
       "        vertical-align: top;\n",
       "    }\n",
       "\n",
       "    .dataframe thead th {\n",
       "        text-align: right;\n",
       "    }\n",
       "</style>\n",
       "<table border=\"1\" class=\"dataframe\">\n",
       "  <thead>\n",
       "    <tr style=\"text-align: right;\">\n",
       "      <th></th>\n",
       "      <th>Id</th>\n",
       "      <th>Hazard</th>\n",
       "      <th>T1_V1</th>\n",
       "      <th>T1_V2</th>\n",
       "      <th>T1_V3</th>\n",
       "      <th>T1_V10</th>\n",
       "      <th>T1_V13</th>\n",
       "      <th>T1_V14</th>\n",
       "      <th>T2_V1</th>\n",
       "      <th>T2_V2</th>\n",
       "      <th>...</th>\n",
       "      <th>T2_V5_A</th>\n",
       "      <th>T2_V5_B</th>\n",
       "      <th>T2_V5_C</th>\n",
       "      <th>T2_V5_D</th>\n",
       "      <th>T2_V11_Y</th>\n",
       "      <th>T2_V12_N</th>\n",
       "      <th>T2_V13_E</th>\n",
       "      <th>T2_V13_A</th>\n",
       "      <th>T2_V13_C</th>\n",
       "      <th>T2_V13_D</th>\n",
       "    </tr>\n",
       "  </thead>\n",
       "  <tbody>\n",
       "    <tr>\n",
       "      <th>count</th>\n",
       "      <td>50999.000000</td>\n",
       "      <td>40799.000000</td>\n",
       "      <td>50999.000000</td>\n",
       "      <td>50999.000000</td>\n",
       "      <td>50999.000000</td>\n",
       "      <td>50999.000000</td>\n",
       "      <td>50999.000000</td>\n",
       "      <td>50999.000000</td>\n",
       "      <td>50999.000000</td>\n",
       "      <td>50999.000000</td>\n",
       "      <td>...</td>\n",
       "      <td>50999.000000</td>\n",
       "      <td>50999.000000</td>\n",
       "      <td>50999.000000</td>\n",
       "      <td>50999.000000</td>\n",
       "      <td>50999.000000</td>\n",
       "      <td>50999.000000</td>\n",
       "      <td>50999.000000</td>\n",
       "      <td>50999.000000</td>\n",
       "      <td>50999.000000</td>\n",
       "      <td>50999.000000</td>\n",
       "    </tr>\n",
       "    <tr>\n",
       "      <th>mean</th>\n",
       "      <td>50929.727897</td>\n",
       "      <td>4.009584</td>\n",
       "      <td>9.722093</td>\n",
       "      <td>12.847585</td>\n",
       "      <td>3.186004</td>\n",
       "      <td>7.020451</td>\n",
       "      <td>13.996255</td>\n",
       "      <td>1.578521</td>\n",
       "      <td>57.580051</td>\n",
       "      <td>12.419616</td>\n",
       "      <td>...</td>\n",
       "      <td>0.663640</td>\n",
       "      <td>0.219632</td>\n",
       "      <td>0.098296</td>\n",
       "      <td>0.010098</td>\n",
       "      <td>0.724328</td>\n",
       "      <td>0.817722</td>\n",
       "      <td>0.541854</td>\n",
       "      <td>0.201180</td>\n",
       "      <td>0.147199</td>\n",
       "      <td>0.099688</td>\n",
       "    </tr>\n",
       "    <tr>\n",
       "      <th>std</th>\n",
       "      <td>29314.685894</td>\n",
       "      <td>4.007785</td>\n",
       "      <td>5.167943</td>\n",
       "      <td>6.255743</td>\n",
       "      <td>1.739369</td>\n",
       "      <td>3.595279</td>\n",
       "      <td>4.647499</td>\n",
       "      <td>0.862882</td>\n",
       "      <td>23.499818</td>\n",
       "      <td>4.783411</td>\n",
       "      <td>...</td>\n",
       "      <td>0.472468</td>\n",
       "      <td>0.414001</td>\n",
       "      <td>0.297717</td>\n",
       "      <td>0.099982</td>\n",
       "      <td>0.446857</td>\n",
       "      <td>0.386077</td>\n",
       "      <td>0.498250</td>\n",
       "      <td>0.400887</td>\n",
       "      <td>0.354308</td>\n",
       "      <td>0.299587</td>\n",
       "    </tr>\n",
       "    <tr>\n",
       "      <th>min</th>\n",
       "      <td>1.000000</td>\n",
       "      <td>1.000000</td>\n",
       "      <td>1.000000</td>\n",
       "      <td>1.000000</td>\n",
       "      <td>1.000000</td>\n",
       "      <td>2.000000</td>\n",
       "      <td>5.000000</td>\n",
       "      <td>0.000000</td>\n",
       "      <td>1.000000</td>\n",
       "      <td>1.000000</td>\n",
       "      <td>...</td>\n",
       "      <td>0.000000</td>\n",
       "      <td>0.000000</td>\n",
       "      <td>0.000000</td>\n",
       "      <td>0.000000</td>\n",
       "      <td>0.000000</td>\n",
       "      <td>0.000000</td>\n",
       "      <td>0.000000</td>\n",
       "      <td>0.000000</td>\n",
       "      <td>0.000000</td>\n",
       "      <td>0.000000</td>\n",
       "    </tr>\n",
       "    <tr>\n",
       "      <th>25%</th>\n",
       "      <td>25660.500000</td>\n",
       "      <td>1.000000</td>\n",
       "      <td>6.000000</td>\n",
       "      <td>7.000000</td>\n",
       "      <td>2.000000</td>\n",
       "      <td>3.000000</td>\n",
       "      <td>10.000000</td>\n",
       "      <td>1.000000</td>\n",
       "      <td>40.000000</td>\n",
       "      <td>9.000000</td>\n",
       "      <td>...</td>\n",
       "      <td>0.000000</td>\n",
       "      <td>0.000000</td>\n",
       "      <td>0.000000</td>\n",
       "      <td>0.000000</td>\n",
       "      <td>0.000000</td>\n",
       "      <td>1.000000</td>\n",
       "      <td>0.000000</td>\n",
       "      <td>0.000000</td>\n",
       "      <td>0.000000</td>\n",
       "      <td>0.000000</td>\n",
       "    </tr>\n",
       "    <tr>\n",
       "      <th>50%</th>\n",
       "      <td>50977.000000</td>\n",
       "      <td>3.000000</td>\n",
       "      <td>9.000000</td>\n",
       "      <td>14.000000</td>\n",
       "      <td>3.000000</td>\n",
       "      <td>8.000000</td>\n",
       "      <td>15.000000</td>\n",
       "      <td>1.000000</td>\n",
       "      <td>56.000000</td>\n",
       "      <td>11.000000</td>\n",
       "      <td>...</td>\n",
       "      <td>1.000000</td>\n",
       "      <td>0.000000</td>\n",
       "      <td>0.000000</td>\n",
       "      <td>0.000000</td>\n",
       "      <td>1.000000</td>\n",
       "      <td>1.000000</td>\n",
       "      <td>1.000000</td>\n",
       "      <td>0.000000</td>\n",
       "      <td>0.000000</td>\n",
       "      <td>0.000000</td>\n",
       "    </tr>\n",
       "    <tr>\n",
       "      <th>75%</th>\n",
       "      <td>76268.500000</td>\n",
       "      <td>5.000000</td>\n",
       "      <td>14.000000</td>\n",
       "      <td>18.000000</td>\n",
       "      <td>4.000000</td>\n",
       "      <td>8.000000</td>\n",
       "      <td>20.000000</td>\n",
       "      <td>2.000000</td>\n",
       "      <td>77.000000</td>\n",
       "      <td>15.000000</td>\n",
       "      <td>...</td>\n",
       "      <td>1.000000</td>\n",
       "      <td>0.000000</td>\n",
       "      <td>0.000000</td>\n",
       "      <td>0.000000</td>\n",
       "      <td>1.000000</td>\n",
       "      <td>1.000000</td>\n",
       "      <td>1.000000</td>\n",
       "      <td>0.000000</td>\n",
       "      <td>0.000000</td>\n",
       "      <td>0.000000</td>\n",
       "    </tr>\n",
       "    <tr>\n",
       "      <th>max</th>\n",
       "      <td>101999.000000</td>\n",
       "      <td>69.000000</td>\n",
       "      <td>19.000000</td>\n",
       "      <td>24.000000</td>\n",
       "      <td>9.000000</td>\n",
       "      <td>12.000000</td>\n",
       "      <td>20.000000</td>\n",
       "      <td>4.000000</td>\n",
       "      <td>100.000000</td>\n",
       "      <td>39.000000</td>\n",
       "      <td>...</td>\n",
       "      <td>1.000000</td>\n",
       "      <td>1.000000</td>\n",
       "      <td>1.000000</td>\n",
       "      <td>1.000000</td>\n",
       "      <td>1.000000</td>\n",
       "      <td>1.000000</td>\n",
       "      <td>1.000000</td>\n",
       "      <td>1.000000</td>\n",
       "      <td>1.000000</td>\n",
       "      <td>1.000000</td>\n",
       "    </tr>\n",
       "  </tbody>\n",
       "</table>\n",
       "<p>8 rows × 93 columns</p>\n",
       "</div>"
      ],
      "text/plain": [
       "                  Id        Hazard         T1_V1         T1_V2         T1_V3  \\\n",
       "count   50999.000000  40799.000000  50999.000000  50999.000000  50999.000000   \n",
       "mean    50929.727897      4.009584      9.722093     12.847585      3.186004   \n",
       "std     29314.685894      4.007785      5.167943      6.255743      1.739369   \n",
       "min         1.000000      1.000000      1.000000      1.000000      1.000000   \n",
       "25%     25660.500000      1.000000      6.000000      7.000000      2.000000   \n",
       "50%     50977.000000      3.000000      9.000000     14.000000      3.000000   \n",
       "75%     76268.500000      5.000000     14.000000     18.000000      4.000000   \n",
       "max    101999.000000     69.000000     19.000000     24.000000      9.000000   \n",
       "\n",
       "             T1_V10        T1_V13        T1_V14         T2_V1         T2_V2  \\\n",
       "count  50999.000000  50999.000000  50999.000000  50999.000000  50999.000000   \n",
       "mean       7.020451     13.996255      1.578521     57.580051     12.419616   \n",
       "std        3.595279      4.647499      0.862882     23.499818      4.783411   \n",
       "min        2.000000      5.000000      0.000000      1.000000      1.000000   \n",
       "25%        3.000000     10.000000      1.000000     40.000000      9.000000   \n",
       "50%        8.000000     15.000000      1.000000     56.000000     11.000000   \n",
       "75%        8.000000     20.000000      2.000000     77.000000     15.000000   \n",
       "max       12.000000     20.000000      4.000000    100.000000     39.000000   \n",
       "\n",
       "       ...       T2_V5_A       T2_V5_B       T2_V5_C       T2_V5_D  \\\n",
       "count  ...  50999.000000  50999.000000  50999.000000  50999.000000   \n",
       "mean   ...      0.663640      0.219632      0.098296      0.010098   \n",
       "std    ...      0.472468      0.414001      0.297717      0.099982   \n",
       "min    ...      0.000000      0.000000      0.000000      0.000000   \n",
       "25%    ...      0.000000      0.000000      0.000000      0.000000   \n",
       "50%    ...      1.000000      0.000000      0.000000      0.000000   \n",
       "75%    ...      1.000000      0.000000      0.000000      0.000000   \n",
       "max    ...      1.000000      1.000000      1.000000      1.000000   \n",
       "\n",
       "           T2_V11_Y      T2_V12_N      T2_V13_E      T2_V13_A      T2_V13_C  \\\n",
       "count  50999.000000  50999.000000  50999.000000  50999.000000  50999.000000   \n",
       "mean       0.724328      0.817722      0.541854      0.201180      0.147199   \n",
       "std        0.446857      0.386077      0.498250      0.400887      0.354308   \n",
       "min        0.000000      0.000000      0.000000      0.000000      0.000000   \n",
       "25%        0.000000      1.000000      0.000000      0.000000      0.000000   \n",
       "50%        1.000000      1.000000      1.000000      0.000000      0.000000   \n",
       "75%        1.000000      1.000000      1.000000      0.000000      0.000000   \n",
       "max        1.000000      1.000000      1.000000      1.000000      1.000000   \n",
       "\n",
       "           T2_V13_D  \n",
       "count  50999.000000  \n",
       "mean       0.099688  \n",
       "std        0.299587  \n",
       "min        0.000000  \n",
       "25%        0.000000  \n",
       "50%        0.000000  \n",
       "75%        0.000000  \n",
       "max        1.000000  \n",
       "\n",
       "[8 rows x 93 columns]"
      ]
     },
     "execution_count": 16,
     "metadata": {},
     "output_type": "execute_result"
    }
   ],
   "source": [
    "bd_all.describe()"
   ]
  },
  {
   "cell_type": "code",
   "execution_count": 18,
   "metadata": {},
   "outputs": [
    {
     "data": {
      "text/plain": [
       "(50999, 94)"
      ]
     },
     "execution_count": 18,
     "metadata": {},
     "output_type": "execute_result"
    }
   ],
   "source": [
    "bd_all.shape"
   ]
  },
  {
   "cell_type": "code",
   "execution_count": 19,
   "metadata": {},
   "outputs": [],
   "source": [
    "bd_all=bd_all.drop([\"Id\"],1)"
   ]
  },
  {
   "cell_type": "code",
   "execution_count": 20,
   "metadata": {},
   "outputs": [
    {
     "data": {
      "text/plain": [
       "(50999, 93)"
      ]
     },
     "execution_count": 20,
     "metadata": {},
     "output_type": "execute_result"
    }
   ],
   "source": [
    "bd_all.shape"
   ]
  },
  {
   "cell_type": "code",
   "execution_count": 21,
   "metadata": {},
   "outputs": [
    {
     "data": {
      "text/plain": [
       "train    40799\n",
       "test     10200\n",
       "Name: data, dtype: int64"
      ]
     },
     "execution_count": 21,
     "metadata": {},
     "output_type": "execute_result"
    }
   ],
   "source": [
    "bd_all['data'].value_counts()"
   ]
  },
  {
   "cell_type": "code",
   "execution_count": 22,
   "metadata": {},
   "outputs": [
    {
     "data": {
      "text/html": [
       "<div>\n",
       "<style scoped>\n",
       "    .dataframe tbody tr th:only-of-type {\n",
       "        vertical-align: middle;\n",
       "    }\n",
       "\n",
       "    .dataframe tbody tr th {\n",
       "        vertical-align: top;\n",
       "    }\n",
       "\n",
       "    .dataframe thead th {\n",
       "        text-align: right;\n",
       "    }\n",
       "</style>\n",
       "<table border=\"1\" class=\"dataframe\">\n",
       "  <thead>\n",
       "    <tr style=\"text-align: right;\">\n",
       "      <th></th>\n",
       "      <th>Hazard</th>\n",
       "      <th>T1_V1</th>\n",
       "      <th>T1_V2</th>\n",
       "      <th>T1_V3</th>\n",
       "      <th>T1_V10</th>\n",
       "      <th>T1_V13</th>\n",
       "      <th>T1_V14</th>\n",
       "      <th>T2_V1</th>\n",
       "      <th>T2_V2</th>\n",
       "      <th>T2_V4</th>\n",
       "      <th>...</th>\n",
       "      <th>T2_V5_A</th>\n",
       "      <th>T2_V5_B</th>\n",
       "      <th>T2_V5_C</th>\n",
       "      <th>T2_V5_D</th>\n",
       "      <th>T2_V11_Y</th>\n",
       "      <th>T2_V12_N</th>\n",
       "      <th>T2_V13_E</th>\n",
       "      <th>T2_V13_A</th>\n",
       "      <th>T2_V13_C</th>\n",
       "      <th>T2_V13_D</th>\n",
       "    </tr>\n",
       "  </thead>\n",
       "  <tbody>\n",
       "    <tr>\n",
       "      <th>0</th>\n",
       "      <td>2.0</td>\n",
       "      <td>10</td>\n",
       "      <td>23</td>\n",
       "      <td>4</td>\n",
       "      <td>2</td>\n",
       "      <td>10</td>\n",
       "      <td>0</td>\n",
       "      <td>52</td>\n",
       "      <td>14</td>\n",
       "      <td>8</td>\n",
       "      <td>...</td>\n",
       "      <td>0</td>\n",
       "      <td>0</td>\n",
       "      <td>1</td>\n",
       "      <td>0</td>\n",
       "      <td>1</td>\n",
       "      <td>1</td>\n",
       "      <td>1</td>\n",
       "      <td>0</td>\n",
       "      <td>0</td>\n",
       "      <td>0</td>\n",
       "    </tr>\n",
       "    <tr>\n",
       "      <th>1</th>\n",
       "      <td>6.0</td>\n",
       "      <td>3</td>\n",
       "      <td>18</td>\n",
       "      <td>2</td>\n",
       "      <td>8</td>\n",
       "      <td>10</td>\n",
       "      <td>3</td>\n",
       "      <td>39</td>\n",
       "      <td>14</td>\n",
       "      <td>13</td>\n",
       "      <td>...</td>\n",
       "      <td>1</td>\n",
       "      <td>0</td>\n",
       "      <td>0</td>\n",
       "      <td>0</td>\n",
       "      <td>1</td>\n",
       "      <td>1</td>\n",
       "      <td>0</td>\n",
       "      <td>0</td>\n",
       "      <td>1</td>\n",
       "      <td>0</td>\n",
       "    </tr>\n",
       "    <tr>\n",
       "      <th>2</th>\n",
       "      <td>4.0</td>\n",
       "      <td>5</td>\n",
       "      <td>20</td>\n",
       "      <td>4</td>\n",
       "      <td>7</td>\n",
       "      <td>15</td>\n",
       "      <td>1</td>\n",
       "      <td>66</td>\n",
       "      <td>10</td>\n",
       "      <td>8</td>\n",
       "      <td>...</td>\n",
       "      <td>0</td>\n",
       "      <td>0</td>\n",
       "      <td>1</td>\n",
       "      <td>0</td>\n",
       "      <td>1</td>\n",
       "      <td>1</td>\n",
       "      <td>0</td>\n",
       "      <td>0</td>\n",
       "      <td>0</td>\n",
       "      <td>1</td>\n",
       "    </tr>\n",
       "    <tr>\n",
       "      <th>3</th>\n",
       "      <td>1.0</td>\n",
       "      <td>4</td>\n",
       "      <td>7</td>\n",
       "      <td>5</td>\n",
       "      <td>8</td>\n",
       "      <td>15</td>\n",
       "      <td>3</td>\n",
       "      <td>48</td>\n",
       "      <td>11</td>\n",
       "      <td>11</td>\n",
       "      <td>...</td>\n",
       "      <td>0</td>\n",
       "      <td>1</td>\n",
       "      <td>0</td>\n",
       "      <td>0</td>\n",
       "      <td>1</td>\n",
       "      <td>1</td>\n",
       "      <td>0</td>\n",
       "      <td>0</td>\n",
       "      <td>0</td>\n",
       "      <td>1</td>\n",
       "    </tr>\n",
       "    <tr>\n",
       "      <th>4</th>\n",
       "      <td>21.0</td>\n",
       "      <td>10</td>\n",
       "      <td>21</td>\n",
       "      <td>6</td>\n",
       "      <td>12</td>\n",
       "      <td>10</td>\n",
       "      <td>1</td>\n",
       "      <td>42</td>\n",
       "      <td>11</td>\n",
       "      <td>11</td>\n",
       "      <td>...</td>\n",
       "      <td>1</td>\n",
       "      <td>0</td>\n",
       "      <td>0</td>\n",
       "      <td>0</td>\n",
       "      <td>0</td>\n",
       "      <td>1</td>\n",
       "      <td>0</td>\n",
       "      <td>0</td>\n",
       "      <td>0</td>\n",
       "      <td>1</td>\n",
       "    </tr>\n",
       "  </tbody>\n",
       "</table>\n",
       "<p>5 rows × 93 columns</p>\n",
       "</div>"
      ],
      "text/plain": [
       "   Hazard  T1_V1  T1_V2  T1_V3  T1_V10  T1_V13  T1_V14  T2_V1  T2_V2  T2_V4  \\\n",
       "0     2.0     10     23      4       2      10       0     52     14      8   \n",
       "1     6.0      3     18      2       8      10       3     39     14     13   \n",
       "2     4.0      5     20      4       7      15       1     66     10      8   \n",
       "3     1.0      4      7      5       8      15       3     48     11     11   \n",
       "4    21.0     10     21      6      12      10       1     42     11     11   \n",
       "\n",
       "   ...  T2_V5_A  T2_V5_B  T2_V5_C  T2_V5_D  T2_V11_Y  T2_V12_N  T2_V13_E  \\\n",
       "0  ...        0        0        1        0         1         1         1   \n",
       "1  ...        1        0        0        0         1         1         0   \n",
       "2  ...        0        0        1        0         1         1         0   \n",
       "3  ...        0        1        0        0         1         1         0   \n",
       "4  ...        1        0        0        0         0         1         0   \n",
       "\n",
       "  T2_V13_A  T2_V13_C  T2_V13_D  \n",
       "0        0         0         0  \n",
       "1        0         1         0  \n",
       "2        0         0         1  \n",
       "3        0         0         1  \n",
       "4        0         0         1  \n",
       "\n",
       "[5 rows x 93 columns]"
      ]
     },
     "execution_count": 22,
     "metadata": {},
     "output_type": "execute_result"
    }
   ],
   "source": [
    "bd_all.head()"
   ]
  },
  {
   "cell_type": "code",
   "execution_count": 23,
   "metadata": {},
   "outputs": [],
   "source": [
    "ld_train=bd_all[bd_all['data']=='train']\n",
    "del ld_train['data']\n",
    "ld_test=bd_all[bd_all['data']=='test']\n",
    "ld_test.drop(['Hazard','data'],axis=1,inplace=True)"
   ]
  },
  {
   "cell_type": "code",
   "execution_count": 24,
   "metadata": {},
   "outputs": [],
   "source": [
    "ld_train1,ld_train2=train_test_split(ld_train,test_size=0.2,random_state=2)"
   ]
  },
  {
   "cell_type": "code",
   "execution_count": 25,
   "metadata": {},
   "outputs": [],
   "source": [
    "ld_train1.reset_index(drop=True,inplace=True)\n",
    "ld_train2.reset_index(drop=True,inplace=True)"
   ]
  },
  {
   "cell_type": "code",
   "execution_count": 26,
   "metadata": {},
   "outputs": [],
   "source": [
    "x_train1=ld_train1.drop('Hazard',axis=1)\n",
    "y_train1=ld_train1['Hazard']\n",
    "\n",
    "x_train2=ld_train2.drop('Hazard',axis=1)\n",
    "y_train2=ld_train2['Hazard']\n",
    "\n"
   ]
  },
  {
   "cell_type": "code",
   "execution_count": null,
   "metadata": {},
   "outputs": [],
   "source": []
  },
  {
   "cell_type": "code",
   "execution_count": 27,
   "metadata": {},
   "outputs": [],
   "source": [
    "from sklearn.model_selection import KFold,GridSearchCV,RandomizedSearchCV\n",
    "from sklearn.tree import DecisionTreeRegressor,DecisionTreeClassifier\n",
    "from sklearn.ensemble import RandomForestRegressor,GradientBoostingRegressor\n",
    "from xgboost.sklearn import XGBRegressor\n",
    "from sklearn.metrics import mean_absolute_error"
   ]
  },
  {
   "cell_type": "code",
   "execution_count": 28,
   "metadata": {},
   "outputs": [],
   "source": [
    "clf1=DecisionTreeRegressor()\n",
    "clf2=RandomForestRegressor()\n",
    "clf3=GradientBoostingRegressor(n_estimators=150,criterion ='mse',learning_rate=0.1)\n",
    "clf4=XGBRegressor(n_estimators=200)\n",
    "\n",
    "Algos=[clf1,clf2,clf3,clf4]"
   ]
  },
  {
   "cell_type": "markdown",
   "metadata": {},
   "source": [
    "param={\"criterion\":['mse',\"mae\",\"poisson\"],\n",
    "    \"max_depth\":[None,5,10,15,20],\n",
    "    \"min_samples_split\":[2,5,10,15],\n",
    "    \"min_samples_leaf\":[1,2,5,10,15],\n",
    "   \"class_weight\":[None,\"balanced\"],\n",
    "   'splitter' : ['best', 'random'],\n",
    "    \"max_leaf_nodes\":[None,5,6,7,8,9,10,11,12,13,14,15,16,17,18,19,20]}\n",
    "\n",
    "neg_mean_absolute_error"
   ]
  },
  {
   "cell_type": "code",
   "execution_count": 29,
   "metadata": {},
   "outputs": [
    {
     "data": {
      "text/plain": [
       "32639"
      ]
     },
     "execution_count": 29,
     "metadata": {},
     "output_type": "execute_result"
    }
   ],
   "source": [
    "rows=x_train1.shape[0]\n",
    "rows"
   ]
  },
  {
   "cell_type": "code",
   "execution_count": 30,
   "metadata": {},
   "outputs": [
    {
     "data": {
      "text/html": [
       "<div>\n",
       "<style scoped>\n",
       "    .dataframe tbody tr th:only-of-type {\n",
       "        vertical-align: middle;\n",
       "    }\n",
       "\n",
       "    .dataframe tbody tr th {\n",
       "        vertical-align: top;\n",
       "    }\n",
       "\n",
       "    .dataframe thead th {\n",
       "        text-align: right;\n",
       "    }\n",
       "</style>\n",
       "<table border=\"1\" class=\"dataframe\">\n",
       "  <thead>\n",
       "    <tr style=\"text-align: right;\">\n",
       "      <th></th>\n",
       "      <th>clf1</th>\n",
       "      <th>clf2</th>\n",
       "      <th>clf3</th>\n",
       "      <th>clf4</th>\n",
       "    </tr>\n",
       "  </thead>\n",
       "  <tbody>\n",
       "    <tr>\n",
       "      <th>0</th>\n",
       "      <td>0.0</td>\n",
       "      <td>0.0</td>\n",
       "      <td>0.0</td>\n",
       "      <td>0.0</td>\n",
       "    </tr>\n",
       "    <tr>\n",
       "      <th>1</th>\n",
       "      <td>0.0</td>\n",
       "      <td>0.0</td>\n",
       "      <td>0.0</td>\n",
       "      <td>0.0</td>\n",
       "    </tr>\n",
       "    <tr>\n",
       "      <th>2</th>\n",
       "      <td>0.0</td>\n",
       "      <td>0.0</td>\n",
       "      <td>0.0</td>\n",
       "      <td>0.0</td>\n",
       "    </tr>\n",
       "    <tr>\n",
       "      <th>3</th>\n",
       "      <td>0.0</td>\n",
       "      <td>0.0</td>\n",
       "      <td>0.0</td>\n",
       "      <td>0.0</td>\n",
       "    </tr>\n",
       "    <tr>\n",
       "      <th>4</th>\n",
       "      <td>0.0</td>\n",
       "      <td>0.0</td>\n",
       "      <td>0.0</td>\n",
       "      <td>0.0</td>\n",
       "    </tr>\n",
       "    <tr>\n",
       "      <th>...</th>\n",
       "      <td>...</td>\n",
       "      <td>...</td>\n",
       "      <td>...</td>\n",
       "      <td>...</td>\n",
       "    </tr>\n",
       "    <tr>\n",
       "      <th>32634</th>\n",
       "      <td>0.0</td>\n",
       "      <td>0.0</td>\n",
       "      <td>0.0</td>\n",
       "      <td>0.0</td>\n",
       "    </tr>\n",
       "    <tr>\n",
       "      <th>32635</th>\n",
       "      <td>0.0</td>\n",
       "      <td>0.0</td>\n",
       "      <td>0.0</td>\n",
       "      <td>0.0</td>\n",
       "    </tr>\n",
       "    <tr>\n",
       "      <th>32636</th>\n",
       "      <td>0.0</td>\n",
       "      <td>0.0</td>\n",
       "      <td>0.0</td>\n",
       "      <td>0.0</td>\n",
       "    </tr>\n",
       "    <tr>\n",
       "      <th>32637</th>\n",
       "      <td>0.0</td>\n",
       "      <td>0.0</td>\n",
       "      <td>0.0</td>\n",
       "      <td>0.0</td>\n",
       "    </tr>\n",
       "    <tr>\n",
       "      <th>32638</th>\n",
       "      <td>0.0</td>\n",
       "      <td>0.0</td>\n",
       "      <td>0.0</td>\n",
       "      <td>0.0</td>\n",
       "    </tr>\n",
       "  </tbody>\n",
       "</table>\n",
       "<p>32639 rows × 4 columns</p>\n",
       "</div>"
      ],
      "text/plain": [
       "       clf1  clf2  clf3  clf4\n",
       "0       0.0   0.0   0.0   0.0\n",
       "1       0.0   0.0   0.0   0.0\n",
       "2       0.0   0.0   0.0   0.0\n",
       "3       0.0   0.0   0.0   0.0\n",
       "4       0.0   0.0   0.0   0.0\n",
       "...     ...   ...   ...   ...\n",
       "32634   0.0   0.0   0.0   0.0\n",
       "32635   0.0   0.0   0.0   0.0\n",
       "32636   0.0   0.0   0.0   0.0\n",
       "32637   0.0   0.0   0.0   0.0\n",
       "32638   0.0   0.0   0.0   0.0\n",
       "\n",
       "[32639 rows x 4 columns]"
      ]
     },
     "execution_count": 30,
     "metadata": {},
     "output_type": "execute_result"
    }
   ],
   "source": [
    "layer1=pd.DataFrame({'clf1':np.zeros(rows),'clf2':np.zeros(rows),'clf3':np.zeros(rows),\n",
    "                    'clf4':np.zeros(rows),})\n",
    "layer1\n"
   ]
  },
  {
   "cell_type": "code",
   "execution_count": 31,
   "metadata": {},
   "outputs": [],
   "source": [
    "kf=KFold(n_splits=10)"
   ]
  },
  {
   "cell_type": "code",
   "execution_count": 32,
   "metadata": {},
   "outputs": [
    {
     "name": "stdout",
     "output_type": "stream",
     "text": [
      "fold number :  1\n",
      "Algo number : 1\n",
      "Algo number : 2\n",
      "Algo number : 3\n",
      "Algo number : 4\n",
      "fold number :  2\n",
      "Algo number : 1\n",
      "Algo number : 2\n",
      "Algo number : 3\n",
      "Algo number : 4\n",
      "fold number :  3\n",
      "Algo number : 1\n",
      "Algo number : 2\n",
      "Algo number : 3\n",
      "Algo number : 4\n",
      "fold number :  4\n",
      "Algo number : 1\n",
      "Algo number : 2\n",
      "Algo number : 3\n",
      "Algo number : 4\n",
      "fold number :  5\n",
      "Algo number : 1\n",
      "Algo number : 2\n",
      "Algo number : 3\n",
      "Algo number : 4\n",
      "fold number :  6\n",
      "Algo number : 1\n",
      "Algo number : 2\n",
      "Algo number : 3\n",
      "Algo number : 4\n",
      "fold number :  7\n",
      "Algo number : 1\n",
      "Algo number : 2\n",
      "Algo number : 3\n",
      "Algo number : 4\n",
      "fold number :  8\n",
      "Algo number : 1\n",
      "Algo number : 2\n",
      "Algo number : 3\n",
      "Algo number : 4\n",
      "fold number :  9\n",
      "Algo number : 1\n",
      "Algo number : 2\n",
      "Algo number : 3\n",
      "Algo number : 4\n",
      "fold number :  10\n",
      "Algo number : 1\n",
      "Algo number : 2\n",
      "Algo number : 3\n",
      "Algo number : 4\n"
     ]
    }
   ],
   "source": [
    "fold=1\n",
    "for train,left_out_chunk in kf.split(x_train1):\n",
    "    print('fold number : ', fold)\n",
    "    \n",
    "    for i,clf in enumerate(Algos):\n",
    "        print('Algo number :',i+1)\n",
    "        \n",
    "        x_train_train=x_train1.loc[train]\n",
    "        y_train_train=y_train1[train]\n",
    "        x_train_left_out_chunk=x_train1.loc[left_out_chunk]\n",
    "        \n",
    "        clf.fit(x_train_train,y_train_train)  \n",
    "        p=clf.predict(x_train_left_out_chunk)\n",
    "        \n",
    "        layer1.iloc[left_out_chunk,i]=p\n",
    "        \n",
    "    fold+=1  \n",
    "    "
   ]
  },
  {
   "cell_type": "code",
   "execution_count": 33,
   "metadata": {},
   "outputs": [
    {
     "data": {
      "text/html": [
       "<div>\n",
       "<style scoped>\n",
       "    .dataframe tbody tr th:only-of-type {\n",
       "        vertical-align: middle;\n",
       "    }\n",
       "\n",
       "    .dataframe tbody tr th {\n",
       "        vertical-align: top;\n",
       "    }\n",
       "\n",
       "    .dataframe thead th {\n",
       "        text-align: right;\n",
       "    }\n",
       "</style>\n",
       "<table border=\"1\" class=\"dataframe\">\n",
       "  <thead>\n",
       "    <tr style=\"text-align: right;\">\n",
       "      <th></th>\n",
       "      <th>clf1</th>\n",
       "      <th>clf2</th>\n",
       "      <th>clf3</th>\n",
       "      <th>clf4</th>\n",
       "    </tr>\n",
       "  </thead>\n",
       "  <tbody>\n",
       "    <tr>\n",
       "      <th>0</th>\n",
       "      <td>10.0</td>\n",
       "      <td>3.60</td>\n",
       "      <td>3.760077</td>\n",
       "      <td>2.341724</td>\n",
       "    </tr>\n",
       "    <tr>\n",
       "      <th>1</th>\n",
       "      <td>1.0</td>\n",
       "      <td>5.07</td>\n",
       "      <td>4.476586</td>\n",
       "      <td>4.661085</td>\n",
       "    </tr>\n",
       "    <tr>\n",
       "      <th>2</th>\n",
       "      <td>8.0</td>\n",
       "      <td>6.39</td>\n",
       "      <td>4.462052</td>\n",
       "      <td>6.942476</td>\n",
       "    </tr>\n",
       "    <tr>\n",
       "      <th>3</th>\n",
       "      <td>4.0</td>\n",
       "      <td>3.52</td>\n",
       "      <td>3.826213</td>\n",
       "      <td>2.229423</td>\n",
       "    </tr>\n",
       "    <tr>\n",
       "      <th>4</th>\n",
       "      <td>3.0</td>\n",
       "      <td>7.19</td>\n",
       "      <td>6.161493</td>\n",
       "      <td>5.624158</td>\n",
       "    </tr>\n",
       "    <tr>\n",
       "      <th>...</th>\n",
       "      <td>...</td>\n",
       "      <td>...</td>\n",
       "      <td>...</td>\n",
       "      <td>...</td>\n",
       "    </tr>\n",
       "    <tr>\n",
       "      <th>32634</th>\n",
       "      <td>2.0</td>\n",
       "      <td>4.23</td>\n",
       "      <td>3.769732</td>\n",
       "      <td>4.812116</td>\n",
       "    </tr>\n",
       "    <tr>\n",
       "      <th>32635</th>\n",
       "      <td>6.0</td>\n",
       "      <td>4.65</td>\n",
       "      <td>4.159134</td>\n",
       "      <td>3.921528</td>\n",
       "    </tr>\n",
       "    <tr>\n",
       "      <th>32636</th>\n",
       "      <td>4.0</td>\n",
       "      <td>3.52</td>\n",
       "      <td>3.824523</td>\n",
       "      <td>3.737833</td>\n",
       "    </tr>\n",
       "    <tr>\n",
       "      <th>32637</th>\n",
       "      <td>4.0</td>\n",
       "      <td>7.47</td>\n",
       "      <td>5.651750</td>\n",
       "      <td>6.491164</td>\n",
       "    </tr>\n",
       "    <tr>\n",
       "      <th>32638</th>\n",
       "      <td>2.0</td>\n",
       "      <td>3.25</td>\n",
       "      <td>3.160077</td>\n",
       "      <td>2.770338</td>\n",
       "    </tr>\n",
       "  </tbody>\n",
       "</table>\n",
       "<p>32639 rows × 4 columns</p>\n",
       "</div>"
      ],
      "text/plain": [
       "       clf1  clf2      clf3      clf4\n",
       "0      10.0  3.60  3.760077  2.341724\n",
       "1       1.0  5.07  4.476586  4.661085\n",
       "2       8.0  6.39  4.462052  6.942476\n",
       "3       4.0  3.52  3.826213  2.229423\n",
       "4       3.0  7.19  6.161493  5.624158\n",
       "...     ...   ...       ...       ...\n",
       "32634   2.0  4.23  3.769732  4.812116\n",
       "32635   6.0  4.65  4.159134  3.921528\n",
       "32636   4.0  3.52  3.824523  3.737833\n",
       "32637   4.0  7.47  5.651750  6.491164\n",
       "32638   2.0  3.25  3.160077  2.770338\n",
       "\n",
       "[32639 rows x 4 columns]"
      ]
     },
     "execution_count": 33,
     "metadata": {},
     "output_type": "execute_result"
    }
   ],
   "source": [
    "layer1"
   ]
  },
  {
   "cell_type": "code",
   "execution_count": 34,
   "metadata": {},
   "outputs": [],
   "source": [
    "rows=x_train2.shape[0]\n",
    "layer2_train2=pd.DataFrame({'clf1':np.zeros(rows),'clf2':np.zeros(rows),'clf3':np.zeros(rows),\n",
    "                    'clf4':np.zeros(rows)})"
   ]
  },
  {
   "cell_type": "code",
   "execution_count": 35,
   "metadata": {},
   "outputs": [
    {
     "name": "stdout",
     "output_type": "stream",
     "text": [
      "Algo number 1\n",
      "Algo number 2\n",
      "Algo number 3\n",
      "Algo number 4\n"
     ]
    }
   ],
   "source": [
    "for i,clf in enumerate(Algos):\n",
    "    print( 'Algo number',i+1)\n",
    "    clf.fit(x_train1,y_train1)\n",
    "    p=clf.predict(x_train2)\n",
    "    \n",
    "    layer2_train2.iloc[:,i]=p\n"
   ]
  },
  {
   "cell_type": "code",
   "execution_count": 36,
   "metadata": {},
   "outputs": [
    {
     "data": {
      "text/html": [
       "<div>\n",
       "<style scoped>\n",
       "    .dataframe tbody tr th:only-of-type {\n",
       "        vertical-align: middle;\n",
       "    }\n",
       "\n",
       "    .dataframe tbody tr th {\n",
       "        vertical-align: top;\n",
       "    }\n",
       "\n",
       "    .dataframe thead th {\n",
       "        text-align: right;\n",
       "    }\n",
       "</style>\n",
       "<table border=\"1\" class=\"dataframe\">\n",
       "  <thead>\n",
       "    <tr style=\"text-align: right;\">\n",
       "      <th></th>\n",
       "      <th>clf1</th>\n",
       "      <th>clf2</th>\n",
       "      <th>clf3</th>\n",
       "      <th>clf4</th>\n",
       "    </tr>\n",
       "  </thead>\n",
       "  <tbody>\n",
       "    <tr>\n",
       "      <th>0</th>\n",
       "      <td>6.0</td>\n",
       "      <td>4.45</td>\n",
       "      <td>3.848584</td>\n",
       "      <td>4.774874</td>\n",
       "    </tr>\n",
       "    <tr>\n",
       "      <th>1</th>\n",
       "      <td>1.0</td>\n",
       "      <td>1.52</td>\n",
       "      <td>2.127214</td>\n",
       "      <td>1.184697</td>\n",
       "    </tr>\n",
       "    <tr>\n",
       "      <th>2</th>\n",
       "      <td>1.0</td>\n",
       "      <td>2.94</td>\n",
       "      <td>3.704388</td>\n",
       "      <td>3.246691</td>\n",
       "    </tr>\n",
       "    <tr>\n",
       "      <th>3</th>\n",
       "      <td>1.0</td>\n",
       "      <td>1.96</td>\n",
       "      <td>3.130804</td>\n",
       "      <td>2.657285</td>\n",
       "    </tr>\n",
       "    <tr>\n",
       "      <th>4</th>\n",
       "      <td>4.0</td>\n",
       "      <td>3.08</td>\n",
       "      <td>3.447785</td>\n",
       "      <td>1.764669</td>\n",
       "    </tr>\n",
       "    <tr>\n",
       "      <th>...</th>\n",
       "      <td>...</td>\n",
       "      <td>...</td>\n",
       "      <td>...</td>\n",
       "      <td>...</td>\n",
       "    </tr>\n",
       "    <tr>\n",
       "      <th>8155</th>\n",
       "      <td>2.0</td>\n",
       "      <td>3.78</td>\n",
       "      <td>3.594283</td>\n",
       "      <td>2.123735</td>\n",
       "    </tr>\n",
       "    <tr>\n",
       "      <th>8156</th>\n",
       "      <td>1.0</td>\n",
       "      <td>2.43</td>\n",
       "      <td>3.034399</td>\n",
       "      <td>2.704875</td>\n",
       "    </tr>\n",
       "    <tr>\n",
       "      <th>8157</th>\n",
       "      <td>4.0</td>\n",
       "      <td>4.23</td>\n",
       "      <td>4.468112</td>\n",
       "      <td>4.312913</td>\n",
       "    </tr>\n",
       "    <tr>\n",
       "      <th>8158</th>\n",
       "      <td>1.0</td>\n",
       "      <td>5.42</td>\n",
       "      <td>6.049677</td>\n",
       "      <td>6.714659</td>\n",
       "    </tr>\n",
       "    <tr>\n",
       "      <th>8159</th>\n",
       "      <td>14.0</td>\n",
       "      <td>7.01</td>\n",
       "      <td>5.722609</td>\n",
       "      <td>7.902061</td>\n",
       "    </tr>\n",
       "  </tbody>\n",
       "</table>\n",
       "<p>8160 rows × 4 columns</p>\n",
       "</div>"
      ],
      "text/plain": [
       "      clf1  clf2      clf3      clf4\n",
       "0      6.0  4.45  3.848584  4.774874\n",
       "1      1.0  1.52  2.127214  1.184697\n",
       "2      1.0  2.94  3.704388  3.246691\n",
       "3      1.0  1.96  3.130804  2.657285\n",
       "4      4.0  3.08  3.447785  1.764669\n",
       "...    ...   ...       ...       ...\n",
       "8155   2.0  3.78  3.594283  2.123735\n",
       "8156   1.0  2.43  3.034399  2.704875\n",
       "8157   4.0  4.23  4.468112  4.312913\n",
       "8158   1.0  5.42  6.049677  6.714659\n",
       "8159  14.0  7.01  5.722609  7.902061\n",
       "\n",
       "[8160 rows x 4 columns]"
      ]
     },
     "execution_count": 36,
     "metadata": {},
     "output_type": "execute_result"
    }
   ],
   "source": [
    "layer2_train2"
   ]
  },
  {
   "cell_type": "code",
   "execution_count": 37,
   "metadata": {},
   "outputs": [],
   "source": [
    "lm=LinearRegression()"
   ]
  },
  {
   "cell_type": "code",
   "execution_count": 38,
   "metadata": {},
   "outputs": [
    {
     "data": {
      "text/plain": [
       "LinearRegression()"
      ]
     },
     "execution_count": 38,
     "metadata": {},
     "output_type": "execute_result"
    }
   ],
   "source": [
    "lm.fit(layer1,y_train1)"
   ]
  },
  {
   "cell_type": "code",
   "execution_count": 39,
   "metadata": {},
   "outputs": [],
   "source": [
    "mae=mean_absolute_error(y_train2,lm.predict(layer2_train2))\n"
   ]
  },
  {
   "cell_type": "code",
   "execution_count": 40,
   "metadata": {},
   "outputs": [
    {
     "data": {
      "text/plain": [
       "0.4981206448132941"
      ]
     },
     "execution_count": 40,
     "metadata": {},
     "output_type": "execute_result"
    }
   ],
   "source": [
    "score=1-(mae/5.4)\n",
    "score"
   ]
  },
  {
   "cell_type": "code",
   "execution_count": null,
   "metadata": {},
   "outputs": [],
   "source": [
    "pd.DataFrame(test_pred).to_csv(\"mysubmission.csv\",index=False)"
   ]
  },
  {
   "cell_type": "code",
   "execution_count": null,
   "metadata": {},
   "outputs": [],
   "source": []
  },
  {
   "cell_type": "code",
   "execution_count": 41,
   "metadata": {},
   "outputs": [],
   "source": [
    "from sklearn.linear_model import Ridge,Lasso\n",
    "from sklearn.model_selection import GridSearchCV\n",
    "lambdas=np.linspace(0.001,5,100)"
   ]
  },
  {
   "cell_type": "code",
   "execution_count": 42,
   "metadata": {},
   "outputs": [],
   "source": [
    "params={'alpha':lambdas}"
   ]
  },
  {
   "cell_type": "code",
   "execution_count": 45,
   "metadata": {},
   "outputs": [],
   "source": [
    "model1=Ridge(fit_intercept=True,normalize=True,max_iter=500,random_state=2)\n",
    "grid_search=GridSearchCV(model1,param_grid=params,cv=10,scoring='neg_mean_absolute_error',n_jobs=-1)"
   ]
  },
  {
   "cell_type": "code",
   "execution_count": 46,
   "metadata": {},
   "outputs": [
    {
     "data": {
      "text/plain": [
       "GridSearchCV(cv=10,\n",
       "             estimator=Ridge(max_iter=500, normalize=True, random_state=2),\n",
       "             n_jobs=-1,\n",
       "             param_grid={'alpha': array([1.00000000e-03, 5.14949495e-02, 1.01989899e-01, 1.52484848e-01,\n",
       "       2.02979798e-01, 2.53474747e-01, 3.03969697e-01, 3.54464646e-01,\n",
       "       4.04959596e-01, 4.55454545e-01, 5.05949495e-01, 5.56444444e-01,\n",
       "       6.06939394e-01, 6.57434343e-01, 7.07929293e-01, 7.5842424...\n",
       "       3.83861616e+00, 3.88911111e+00, 3.93960606e+00, 3.99010101e+00,\n",
       "       4.04059596e+00, 4.09109091e+00, 4.14158586e+00, 4.19208081e+00,\n",
       "       4.24257576e+00, 4.29307071e+00, 4.34356566e+00, 4.39406061e+00,\n",
       "       4.44455556e+00, 4.49505051e+00, 4.54554545e+00, 4.59604040e+00,\n",
       "       4.64653535e+00, 4.69703030e+00, 4.74752525e+00, 4.79802020e+00,\n",
       "       4.84851515e+00, 4.89901010e+00, 4.94950505e+00, 5.00000000e+00])},\n",
       "             scoring='neg_mean_absolute_error')"
      ]
     },
     "execution_count": 46,
     "metadata": {},
     "output_type": "execute_result"
    }
   ],
   "source": [
    "grid_search.fit(layer1,y_train1)"
   ]
  },
  {
   "cell_type": "code",
   "execution_count": 47,
   "metadata": {},
   "outputs": [
    {
     "data": {
      "text/plain": [
       "Ridge(alpha=0.001, max_iter=500, normalize=True, random_state=2)"
      ]
     },
     "execution_count": 47,
     "metadata": {},
     "output_type": "execute_result"
    }
   ],
   "source": [
    "rg=grid_search.best_estimator_\n",
    "rg.fit(layer1,y_train1)"
   ]
  },
  {
   "cell_type": "code",
   "execution_count": 50,
   "metadata": {},
   "outputs": [],
   "source": [
    "mae1=mean_absolute_error(y_train2,rg.predict(layer2_train2))\n"
   ]
  },
  {
   "cell_type": "code",
   "execution_count": 51,
   "metadata": {},
   "outputs": [
    {
     "data": {
      "text/plain": [
       "2.6992345396758792"
      ]
     },
     "execution_count": 51,
     "metadata": {},
     "output_type": "execute_result"
    }
   ],
   "source": [
    "abs(grid_search.best_score_)"
   ]
  },
  {
   "cell_type": "code",
   "execution_count": 52,
   "metadata": {},
   "outputs": [
    {
     "data": {
      "text/plain": [
       "0.49830237717059445"
      ]
     },
     "execution_count": 52,
     "metadata": {},
     "output_type": "execute_result"
    }
   ],
   "source": [
    "score=1-(mae1/5.4)\n",
    "score"
   ]
  },
  {
   "cell_type": "code",
   "execution_count": 53,
   "metadata": {},
   "outputs": [
    {
     "data": {
      "text/plain": [
       "GridSearchCV(cv=10, estimator=Lasso(normalize=True, random_state=2), n_jobs=-1,\n",
       "             param_grid={'alpha': array([1.00000000e-03, 5.14949495e-02, 1.01989899e-01, 1.52484848e-01,\n",
       "       2.02979798e-01, 2.53474747e-01, 3.03969697e-01, 3.54464646e-01,\n",
       "       4.04959596e-01, 4.55454545e-01, 5.05949495e-01, 5.56444444e-01,\n",
       "       6.06939394e-01, 6.57434343e-01, 7.07929293e-01, 7.58424242e-01,\n",
       "       8.08919...\n",
       "       3.83861616e+00, 3.88911111e+00, 3.93960606e+00, 3.99010101e+00,\n",
       "       4.04059596e+00, 4.09109091e+00, 4.14158586e+00, 4.19208081e+00,\n",
       "       4.24257576e+00, 4.29307071e+00, 4.34356566e+00, 4.39406061e+00,\n",
       "       4.44455556e+00, 4.49505051e+00, 4.54554545e+00, 4.59604040e+00,\n",
       "       4.64653535e+00, 4.69703030e+00, 4.74752525e+00, 4.79802020e+00,\n",
       "       4.84851515e+00, 4.89901010e+00, 4.94950505e+00, 5.00000000e+00])},\n",
       "             scoring='neg_mean_absolute_error')"
      ]
     },
     "execution_count": 53,
     "metadata": {},
     "output_type": "execute_result"
    }
   ],
   "source": [
    "model=Lasso(fit_intercept=True,normalize=True,max_iter=1000,random_state=2)\n",
    "grid_search=GridSearchCV(model,param_grid=params,cv=10,scoring='neg_mean_absolute_error',n_jobs=-1)\n",
    "grid_search.fit(layer1,y_train1)"
   ]
  },
  {
   "cell_type": "code",
   "execution_count": 54,
   "metadata": {},
   "outputs": [
    {
     "data": {
      "text/plain": [
       "2.7142459248979725"
      ]
     },
     "execution_count": 54,
     "metadata": {},
     "output_type": "execute_result"
    }
   ],
   "source": [
    "ls=grid_search.best_estimator_\n",
    "mean_absolute_error(y_train2,ls.predict(layer2_train2))\n"
   ]
  },
  {
   "cell_type": "code",
   "execution_count": 50,
   "metadata": {},
   "outputs": [
    {
     "data": {
      "text/plain": [
       "0.49814814814814823"
      ]
     },
     "execution_count": 50,
     "metadata": {},
     "output_type": "execute_result"
    }
   ],
   "source": [
    "score=1-(2.71/5.4)\n",
    "score"
   ]
  },
  {
   "cell_type": "code",
   "execution_count": 51,
   "metadata": {},
   "outputs": [
    {
     "data": {
      "text/plain": [
       "2.7054793176647083"
      ]
     },
     "execution_count": 51,
     "metadata": {},
     "output_type": "execute_result"
    }
   ],
   "source": [
    "abs(grid_search.best_score_)"
   ]
  },
  {
   "cell_type": "code",
   "execution_count": 55,
   "metadata": {},
   "outputs": [],
   "source": [
    "from sklearn.ensemble import RandomForestRegressor\n",
    "from scipy.stats import randint as sp_randint\n",
    "from sklearn.model_selection import RandomizedSearchCV"
   ]
  },
  {
   "cell_type": "code",
   "execution_count": 68,
   "metadata": {},
   "outputs": [],
   "source": [
    "rf=RandomForestRegressor()"
   ]
  },
  {
   "cell_type": "code",
   "execution_count": 165,
   "metadata": {},
   "outputs": [],
   "source": [
    "def report(grid_scores, n_top=3):\n",
    "    top_scores = sorted(grid_scores, key=itemgetter(1), reverse=True)[:n_top]\n",
    "    # above line selects top n grid scores\n",
    "    # for loop below , prints the rank, score and parameter combination\n",
    "    for i, score in enumerate(top_scores):\n",
    "        print(\"Model with rank: {0}\".format(i + 1))\n",
    "        print(\"Mean validation score: {0:.3f} (std: {1:.3f})\".format(\n",
    "              score.mean_validation_score,\n",
    "              np.std(score.cv_validation_scores)))\n",
    "        print(\"Parameters: {0}\".format(score.parameters))\n",
    "        print(\"\")"
   ]
  },
  {
   "cell_type": "code",
   "execution_count": 70,
   "metadata": {},
   "outputs": [],
   "source": [
    "param_dist = {\"n_estimators\":[10,100,500,700],\n",
    "              \"max_depth\": [3,5, None],\n",
    "              \"max_features\": [\"auto\",\"sqrt\",\"log2\"],\n",
    "              \"min_samples_split\": sp_randint(5, 11),  \n",
    "              \"min_samples_leaf\": sp_randint(5, 11),\n",
    "              \"bootstrap\": [True, False],\n",
    "              \"criterion\": [\"mse\", \"mae\"]}"
   ]
  },
  {
   "cell_type": "code",
   "execution_count": 71,
   "metadata": {},
   "outputs": [],
   "source": [
    "random_search=RandomizedSearchCV(rf,param_distributions=param_dist,scoring=\"neg_mean_absolute_error\",n_jobs=-1,n_iter=10,cv=10)\n",
    "\n",
    "\n",
    "#report(random_search.grid_scores_)"
   ]
  },
  {
   "cell_type": "code",
   "execution_count": 97,
   "metadata": {},
   "outputs": [],
   "source": [
    "RF=RandomForestRegressor(n_estimators=100,criterion='mse',n_jobs=-1,random_state=300,max_features='log2')"
   ]
  },
  {
   "cell_type": "code",
   "execution_count": 98,
   "metadata": {},
   "outputs": [],
   "source": [
    "RF1=RF.fit(layer1,y_train1) "
   ]
  },
  {
   "cell_type": "code",
   "execution_count": 99,
   "metadata": {},
   "outputs": [
    {
     "data": {
      "text/plain": [
       "2.8361102941176473"
      ]
     },
     "execution_count": 99,
     "metadata": {},
     "output_type": "execute_result"
    }
   ],
   "source": [
    "m1=mean_absolute_error(y_train2,RF1.predict(layer2_train2))\n",
    "m1\n"
   ]
  },
  {
   "cell_type": "code",
   "execution_count": 100,
   "metadata": {},
   "outputs": [
    {
     "data": {
      "text/plain": [
       "0.47479438997821355"
      ]
     },
     "execution_count": 100,
     "metadata": {},
     "output_type": "execute_result"
    }
   ],
   "source": [
    "score=1-(m1/5.4)\n",
    "score"
   ]
  },
  {
   "cell_type": "code",
   "execution_count": 138,
   "metadata": {},
   "outputs": [],
   "source": [
    "clf3=GradientBoostingRegressor(n_estimators=50,criterion ='mse',learning_rate=0.1)"
   ]
  },
  {
   "cell_type": "code",
   "execution_count": 139,
   "metadata": {},
   "outputs": [],
   "source": [
    "gbr=clf3.fit(layer1,y_train1)"
   ]
  },
  {
   "cell_type": "code",
   "execution_count": 140,
   "metadata": {},
   "outputs": [
    {
     "data": {
      "text/plain": [
       "2.717663954689574"
      ]
     },
     "execution_count": 140,
     "metadata": {},
     "output_type": "execute_result"
    }
   ],
   "source": [
    "mae3=mean_absolute_error(y_train2,gbr.predict(layer2_train2))\n",
    "mae3"
   ]
  },
  {
   "cell_type": "code",
   "execution_count": 141,
   "metadata": {},
   "outputs": [
    {
     "data": {
      "text/plain": [
       "0.4967288972797086"
      ]
     },
     "execution_count": 141,
     "metadata": {},
     "output_type": "execute_result"
    }
   ],
   "source": [
    "score=1-(mae3/5.4)\n",
    "score"
   ]
  },
  {
   "cell_type": "code",
   "execution_count": 46,
   "metadata": {},
   "outputs": [],
   "source": [
    "gbr0=GradientBoostingRegressor(n_estimators=100,criterion ='mae',learning_rate=0.1)"
   ]
  },
  {
   "cell_type": "code",
   "execution_count": 47,
   "metadata": {},
   "outputs": [],
   "source": [
    "gbr1=gbr0.fit(layer1,y_train1)"
   ]
  },
  {
   "cell_type": "code",
   "execution_count": 48,
   "metadata": {},
   "outputs": [
    {
     "data": {
      "text/plain": [
       "2.5695949952006027"
      ]
     },
     "execution_count": 48,
     "metadata": {},
     "output_type": "execute_result"
    }
   ],
   "source": [
    "m4=mean_absolute_error(y_train2,gbr1.predict(layer2_train2))\n",
    "m4"
   ]
  },
  {
   "cell_type": "code",
   "execution_count": 49,
   "metadata": {},
   "outputs": [
    {
     "data": {
      "text/plain": [
       "0.5241490749628513"
      ]
     },
     "execution_count": 49,
     "metadata": {},
     "output_type": "execute_result"
    }
   ],
   "source": [
    "score=1-(m4/5.4)\n",
    "score"
   ]
  },
  {
   "cell_type": "code",
   "execution_count": 50,
   "metadata": {},
   "outputs": [],
   "source": [
    "gbr2=GradientBoostingRegressor(n_estimators=100,criterion ='mae',learning_rate=0.01)"
   ]
  },
  {
   "cell_type": "code",
   "execution_count": 51,
   "metadata": {},
   "outputs": [],
   "source": [
    "gbr3=gbr2.fit(layer1,y_train1)"
   ]
  },
  {
   "cell_type": "code",
   "execution_count": 52,
   "metadata": {},
   "outputs": [
    {
     "data": {
      "text/plain": [
       "2.6255121987757035"
      ]
     },
     "execution_count": 52,
     "metadata": {},
     "output_type": "execute_result"
    }
   ],
   "source": [
    "m5=mean_absolute_error(y_train2,gbr3.predict(layer2_train2))\n",
    "m5"
   ]
  },
  {
   "cell_type": "code",
   "execution_count": 55,
   "metadata": {},
   "outputs": [
    {
     "data": {
      "text/plain": [
       "0.5137940372637586"
      ]
     },
     "execution_count": 55,
     "metadata": {},
     "output_type": "execute_result"
    }
   ],
   "source": [
    "score=1-(m5/5.4)\n",
    "score"
   ]
  },
  {
   "cell_type": "code",
   "execution_count": 53,
   "metadata": {},
   "outputs": [
    {
     "data": {
      "text/plain": [
       "2.6912993018964855"
      ]
     },
     "execution_count": 53,
     "metadata": {},
     "output_type": "execute_result"
    }
   ],
   "source": [
    "gbr50=GradientBoostingRegressor(n_estimators=50,criterion ='mae',learning_rate=0.01)\n",
    "gbr50a=gbr50.fit(layer1,y_train1)\n",
    "m6=mean_absolute_error(y_train2,gbr50a.predict(layer2_train2))\n",
    "m6\n"
   ]
  },
  {
   "cell_type": "code",
   "execution_count": 56,
   "metadata": {},
   "outputs": [
    {
     "data": {
      "text/plain": [
       "0.5016112403895397"
      ]
     },
     "execution_count": 56,
     "metadata": {},
     "output_type": "execute_result"
    }
   ],
   "source": [
    "score=1-(m6/5.4)\n",
    "score"
   ]
  },
  {
   "cell_type": "code",
   "execution_count": 54,
   "metadata": {},
   "outputs": [
    {
     "data": {
      "text/plain": [
       "2.5658689587154115"
      ]
     },
     "execution_count": 54,
     "metadata": {},
     "output_type": "execute_result"
    }
   ],
   "source": [
    "gbr51=GradientBoostingRegressor(n_estimators=50,criterion ='mae',learning_rate=0.1)\n",
    "gbr51a=gbr51.fit(layer1,y_train1)\n",
    "m7=mean_absolute_error(y_train2,gbr51a.predict(layer2_train2))\n",
    "m7\n"
   ]
  },
  {
   "cell_type": "code",
   "execution_count": 85,
   "metadata": {},
   "outputs": [
    {
     "data": {
      "text/plain": [
       "0.5248390817193682"
      ]
     },
     "execution_count": 85,
     "metadata": {},
     "output_type": "execute_result"
    }
   ],
   "source": [
    "score=1-(m7/5.4)\n",
    "score"
   ]
  },
  {
   "cell_type": "code",
   "execution_count": 86,
   "metadata": {},
   "outputs": [],
   "source": [
    "x_train=ld_train.drop('Hazard',axis=1)\n",
    "y_train=ld_train['Hazard']"
   ]
  },
  {
   "cell_type": "code",
   "execution_count": 87,
   "metadata": {},
   "outputs": [
    {
     "data": {
      "text/plain": [
       "GradientBoostingRegressor(criterion='mae', n_estimators=50)"
      ]
     },
     "execution_count": 87,
     "metadata": {},
     "output_type": "execute_result"
    }
   ],
   "source": [
    "gbr51.fit(x_train,y_train)"
   ]
  },
  {
   "cell_type": "code",
   "execution_count": 88,
   "metadata": {},
   "outputs": [],
   "source": [
    "test_pred=gbr51.predict(ld_test)"
   ]
  },
  {
   "cell_type": "code",
   "execution_count": 92,
   "metadata": {},
   "outputs": [
    {
     "data": {
      "text/plain": [
       "(10200,)"
      ]
     },
     "execution_count": 92,
     "metadata": {},
     "output_type": "execute_result"
    }
   ],
   "source": [
    "test_pred.shape"
   ]
  },
  {
   "cell_type": "code",
   "execution_count": 95,
   "metadata": {},
   "outputs": [],
   "source": [
    "pd.DataFrame(test_pred).to_csv(\"Predict Hazard Ratings for a maintance.csv\",index=False)"
   ]
  },
  {
   "cell_type": "code",
   "execution_count": null,
   "metadata": {},
   "outputs": [],
   "source": []
  },
  {
   "cell_type": "code",
   "execution_count": null,
   "metadata": {},
   "outputs": [],
   "source": []
  }
 ],
 "metadata": {
  "kernelspec": {
   "display_name": "Python 3",
   "language": "python",
   "name": "python3"
  },
  "language_info": {
   "codemirror_mode": {
    "name": "ipython",
    "version": 3
   },
   "file_extension": ".py",
   "mimetype": "text/x-python",
   "name": "python",
   "nbconvert_exporter": "python",
   "pygments_lexer": "ipython3",
   "version": "3.8.8"
  }
 },
 "nbformat": 4,
 "nbformat_minor": 2
}
